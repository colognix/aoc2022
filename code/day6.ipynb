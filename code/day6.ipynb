{
 "cells": [
  {
   "cell_type": "code",
   "execution_count": 9,
   "id": "1fc1de38",
   "metadata": {},
   "outputs": [
    {
     "name": "stdout",
     "output_type": "stream",
     "text": [
      "1920\n",
      "2334\n"
     ]
    }
   ],
   "source": [
    "def read_input():\n",
    "    with open('../input/in_day6.txt','r') as f:\n",
    "        return f.read()\n",
    "stream = read_input()\n",
    "# part 1\n",
    "for i in range(4,len(stream)):\n",
    "    if len(set(stream[i-4:i])) == len(stream[i-4:i]):\n",
    "        print(i)\n",
    "        break;\n",
    "# part 2\n",
    "for i in range(14,len(stream)):\n",
    "    if len(set(stream[i-14:i])) == len(stream[i-14:i]):\n",
    "        print(i)\n",
    "        break;"
   ]
  }
 ],
 "metadata": {
  "kernelspec": {
   "display_name": "Python 3 (ipykernel)",
   "language": "python",
   "name": "python3"
  },
  "language_info": {
   "codemirror_mode": {
    "name": "ipython",
    "version": 3
   },
   "file_extension": ".py",
   "mimetype": "text/x-python",
   "name": "python",
   "nbconvert_exporter": "python",
   "pygments_lexer": "ipython3",
   "version": "3.9.13"
  }
 },
 "nbformat": 4,
 "nbformat_minor": 5
}
