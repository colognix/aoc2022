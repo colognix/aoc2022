{
 "cells": [
  {
   "cell_type": "code",
   "execution_count": 17,
   "id": "747b2bee",
   "metadata": {},
   "outputs": [
    {
     "name": "stdout",
     "output_type": "stream",
     "text": [
      "67027 12\n",
      "197291\n"
     ]
    }
   ],
   "source": [
    "\n",
    "\n",
    "def read_input_day1():\n",
    "    \n",
    "    def process(raw):\n",
    "        split_data = raw.split('\\n\\n')\n",
    "        ret = []\n",
    "        for data_set in split_data:\n",
    "            try:\n",
    "                ret += [[int(i) for i in data_set.split('\\n')]]\n",
    "            except ValueError:\n",
    "                continue\n",
    "        return ret\n",
    "    \n",
    "    with open(\"../input/in_day1.txt\") as f:\n",
    "        raw_in = f.read()\n",
    "        # windows handling\n",
    "        raw_in = raw_in.replace('\\r','')\n",
    "        return process(raw_in)\n",
    "    \n",
    "def compute_sum(in_data):\n",
    "    sum_data = []\n",
    "    for vals in in_data:\n",
    "        sum_data += [sum(vals)]\n",
    "    return sum_data \n",
    "\n",
    "\n",
    "# part 1\n",
    "sums = compute_sum(read_input_day1())\n",
    "print(max(sums), sums.index(max(sums)))\n",
    "\n",
    "# part 2\n",
    "sum_three = 0\n",
    "for i in range(3):\n",
    "    sum_three += max(sums)\n",
    "    sums.pop(sums.index(max(sums)))\n",
    "print(sum_three)"
   ]
  },
  {
   "cell_type": "code",
   "execution_count": null,
   "id": "98e49f99",
   "metadata": {},
   "outputs": [],
   "source": []
  }
 ],
 "metadata": {
  "kernelspec": {
   "display_name": "Python 3 (ipykernel)",
   "language": "python",
   "name": "python3"
  },
  "language_info": {
   "codemirror_mode": {
    "name": "ipython",
    "version": 3
   },
   "file_extension": ".py",
   "mimetype": "text/x-python",
   "name": "python",
   "nbconvert_exporter": "python",
   "pygments_lexer": "ipython3",
   "version": "3.9.13"
  }
 },
 "nbformat": 4,
 "nbformat_minor": 5
}
