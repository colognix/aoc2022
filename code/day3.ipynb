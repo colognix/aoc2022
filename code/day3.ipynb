{
 "cells": [
  {
   "cell_type": "code",
   "execution_count": 28,
   "id": "fa32b54f",
   "metadata": {},
   "outputs": [
    {
     "name": "stdout",
     "output_type": "stream",
     "text": [
      "7903\n",
      "2548\n"
     ]
    }
   ],
   "source": [
    "import string\n",
    "\n",
    "def read_input_day3():\n",
    "    ret = []\n",
    "    with open(\"../input/in_day3.txt\") as f:\n",
    "        raw_input = f.read()\n",
    "        # windows handling\n",
    "        raw_input = raw_input.replace('\\r','')\n",
    "        return raw_input.split('\\n')\n",
    "    \n",
    "sacks = read_input_day3()\n",
    "\n",
    "priority = {}\n",
    "i = 1\n",
    "for lit in string.ascii_lowercase:\n",
    "    priority[lit] = i\n",
    "    i += 1\n",
    "for lit in string.ascii_uppercase:\n",
    "    priority[lit] = i\n",
    "    i += 1\n",
    "    \n",
    "# part 1\n",
    "res = 0\n",
    "for sack in sacks:\n",
    "    comp1, comp2 = sack[:int(len(sack)/2)],sack[int(len(sack)/2):]\n",
    "    res += priority[set(comp1).intersection(set(comp2)).pop()]\n",
    "print(res)\n",
    "\n",
    "# part 2\n",
    "res = 0\n",
    "team_sacks = [sacks[i:i+3] for i in range(0,len(sacks),3)]\n",
    "for sacks in team_sacks:\n",
    "    res += priority[set(sacks[0]).intersection(set(sacks[1])).intersection(set(sacks[2])).pop()]\n",
    "print(res)"
   ]
  }
 ],
 "metadata": {
  "kernelspec": {
   "display_name": "Python 3 (ipykernel)",
   "language": "python",
   "name": "python3"
  },
  "language_info": {
   "codemirror_mode": {
    "name": "ipython",
    "version": 3
   },
   "file_extension": ".py",
   "mimetype": "text/x-python",
   "name": "python",
   "nbconvert_exporter": "python",
   "pygments_lexer": "ipython3",
   "version": "3.9.13"
  }
 },
 "nbformat": 4,
 "nbformat_minor": 5
}
