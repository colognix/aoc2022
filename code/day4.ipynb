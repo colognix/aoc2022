{
 "cells": [
  {
   "cell_type": "code",
   "execution_count": 61,
   "id": "b3892cb0",
   "metadata": {},
   "outputs": [
    {
     "name": "stdout",
     "output_type": "stream",
     "text": [
      "433\n",
      "852\n"
     ]
    }
   ],
   "source": [
    "def read_input():\n",
    "    with open('../input/in_day4.txt','r') as f:\n",
    "        return [l.strip() for l in f.readlines()]\n",
    "    \n",
    "in_data = read_input()\n",
    "\n",
    "\n",
    "cleaner_pairs = [[set(range(int(vals1.split('-')[0]),int(vals1.split('-')[1])+1)),\n",
    "  set(range(int(vals2.split('-')[0]),int(vals2.split('-')[1])+1))]\n",
    " for [vals1,vals2] in [l.split(',') for l in in_data]]\n",
    "\n",
    "# part 1\n",
    "is_contained = [not (len(pair[0].intersection(pair[1])) < min(len(pair[0]),len(pair[1]))) for pair in cleaner_pairs]\n",
    "print(sum(is_contained))\n",
    "\n",
    "# part 2\n",
    "overlaps = [len(pair[0].intersection(pair[1])) > 0 for pair in cleaner_pairs]\n",
    "print(sum(overlaps))"
   ]
  }
 ],
 "metadata": {
  "kernelspec": {
   "display_name": "Python 3 (ipykernel)",
   "language": "python",
   "name": "python3"
  },
  "language_info": {
   "codemirror_mode": {
    "name": "ipython",
    "version": 3
   },
   "file_extension": ".py",
   "mimetype": "text/x-python",
   "name": "python",
   "nbconvert_exporter": "python",
   "pygments_lexer": "ipython3",
   "version": "3.9.13"
  }
 },
 "nbformat": 4,
 "nbformat_minor": 5
}
