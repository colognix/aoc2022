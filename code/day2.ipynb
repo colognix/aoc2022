{
 "cells": [
  {
   "cell_type": "code",
   "execution_count": 12,
   "id": "dbab4b24",
   "metadata": {},
   "outputs": [
    {
     "name": "stdout",
     "output_type": "stream",
     "text": [
      "15572\n",
      "16098\n"
     ]
    }
   ],
   "source": [
    "def read_input_day2():\n",
    "    ret = []\n",
    "    with open(\"../input/in_day2.txt\") as f:\n",
    "        raw_input = f.read()\n",
    "        # windows handling\n",
    "        raw_input = raw_input.replace('\\r','')\n",
    "        ret = [line.split(' ') for line in raw_input.split('\\n')]\n",
    "    return ret\n",
    "\n",
    "def compute_score(line, score_mapping):\n",
    "    return score_mapping[line[1]][0] + score_mapping[line[1]][1][line[0]]\n",
    "\n",
    "# both tasks: A = rock (1p), B = paper(2p), C = scissors(3p)\n",
    "\n",
    "# X = rock, Y = paper, Z = scissors\n",
    "mapping_part1 = {'X':[1, {'A':3, 'B':0, 'C':6}],\n",
    "             'Y':[2,{'A':6, 'B':3, 'C':0}],\n",
    "             'Z':[3,{'A':0, 'B':6, 'C':3}]}\n",
    "\n",
    "# X = loss, Y = draw, Z = win\n",
    "mapping_part2 = {'X':[0, {'A':3, 'B':1, 'C':2}],\n",
    "             'Y':[3,{'A':1, 'B':2, 'C':3}],\n",
    "             'Z':[6,{'A':2, 'B':3, 'C':1}]}\n",
    "    \n",
    "def compute_overall_score(matches, task_part):\n",
    "    overall_score = 0\n",
    "    if task_part == 1:\n",
    "        for match in matches:\n",
    "            overall_score += compute_score(match, mapping_part1)\n",
    "    if task_part == 2:\n",
    "        for match in matches:\n",
    "            overall_score += compute_score(match, mapping_part2)\n",
    "    return overall_score\n",
    "\n",
    "input_data = read_input_day2()\n",
    "for i in range(1,3):\n",
    "    print(compute_overall_score(input_data, i))"
   ]
  }
 ],
 "metadata": {
  "kernelspec": {
   "display_name": "Python 3 (ipykernel)",
   "language": "python",
   "name": "python3"
  },
  "language_info": {
   "codemirror_mode": {
    "name": "ipython",
    "version": 3
   },
   "file_extension": ".py",
   "mimetype": "text/x-python",
   "name": "python",
   "nbconvert_exporter": "python",
   "pygments_lexer": "ipython3",
   "version": "3.9.13"
  }
 },
 "nbformat": 4,
 "nbformat_minor": 5
}
