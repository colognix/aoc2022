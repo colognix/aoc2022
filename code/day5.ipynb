{
 "cells": [
  {
   "cell_type": "code",
   "execution_count": 12,
   "id": "89336af1",
   "metadata": {},
   "outputs": [
    {
     "name": "stdout",
     "output_type": "stream",
     "text": [
      "QNHWJVJZW\n",
      "BPCZJLFJW\n"
     ]
    }
   ],
   "source": [
    "def read_input():\n",
    "    with open('../input/in_day5.txt','r') as f:\n",
    "        return [l.strip() for l in f.readlines()]\n",
    "    \n",
    "data = read_input()\n",
    "instr = []\n",
    "for line in data:\n",
    "    if line.startswith('m'):\n",
    "        arr = line.split(' ')\n",
    "        instr += [[int(arr[1]),int(arr[3]),int(arr[5])]]\n",
    "\n",
    "# part 1\n",
    "stacks = [['C','Z','N','B','M','W','Q','V'],['H','Z','R','W','C','B'],['F','Q','R','J'],\n",
    "         ['Z','S','W','H','F','N','M','T'],['G','F','W','L','N','Q','P'],['L','P','W'],\n",
    "          ['V','B','D','R','G','C','Q','J'],['Z','Q','N','B','W'],['H','L','F','C','G','T','J']]\n",
    "for step in instr:\n",
    "    for i in range(step[0]):\n",
    "        stacks[step[2]-1] += stacks[step[1]-1].pop()\n",
    "\n",
    "res = \"\"\n",
    "for stack in stacks:\n",
    "    res += stack[-1]\n",
    "print(res)\n",
    "\n",
    "# part 2\n",
    "stacks = [['C','Z','N','B','M','W','Q','V'],['H','Z','R','W','C','B'],['F','Q','R','J'],\n",
    "         ['Z','S','W','H','F','N','M','T'],['G','F','W','L','N','Q','P'],['L','P','W'],\n",
    "          ['V','B','D','R','G','C','Q','J'],['Z','Q','N','B','W'],['H','L','F','C','G','T','J']]\n",
    "for step in instr:\n",
    "    tmp = []\n",
    "    for i in range(step[0]): \n",
    "        tmp += stacks[step[1]-1].pop()\n",
    "    stacks[step[2]-1] += reversed(tmp)\n",
    "res = \"\"\n",
    "for stack in stacks:\n",
    "    res += stack[-1]\n",
    "print(res)\n"
   ]
  }
 ],
 "metadata": {
  "kernelspec": {
   "display_name": "Python 3 (ipykernel)",
   "language": "python",
   "name": "python3"
  },
  "language_info": {
   "codemirror_mode": {
    "name": "ipython",
    "version": 3
   },
   "file_extension": ".py",
   "mimetype": "text/x-python",
   "name": "python",
   "nbconvert_exporter": "python",
   "pygments_lexer": "ipython3",
   "version": "3.9.13"
  }
 },
 "nbformat": 4,
 "nbformat_minor": 5
}
